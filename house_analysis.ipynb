{
 "cells": [
  {
   "cell_type": "code",
   "execution_count": 1,
   "metadata": {},
   "outputs": [],
   "source": [
    "# %load house.py\n",
    "#!/usr/bin/env python3\n",
    "\n",
    "#####################################################\n",
    "#                                                   #\n",
    "#    U.S. HOUSE STATISTICAL PREDICTIONS             #\n",
    "#    CORY McCARTAN                                  #\n",
    "#                                                   #\n",
    "#####################################################\n",
    "\n",
    "\n",
    "import math\n",
    "import re\n",
    "import pickle\n",
    "import os\n",
    "import argparse\n",
    "import json\n",
    "from datetime import date, datetime, timedelta\n",
    "import time\n",
    "from urllib.request import urlopen as fetch\n",
    "from types import SimpleNamespace as dot\n",
    "import warnings\n",
    "warnings.filterwarnings(\"ignore\", category=DeprecationWarning) \n",
    "warnings.filterwarnings(\"ignore\", category=FutureWarning) \n",
    "\n",
    "from bs4 import BeautifulSoup\n",
    "import pollster\n",
    "pollster = pollster.Api()\n",
    "\n",
    "import pandas as pd\n",
    "import numpy as np\n",
    "from pystan import StanModel \n",
    "import us\n",
    "\n",
    "import priors\n",
    "\n",
    "\n",
    "def get_polling_data(year=2018, max_date=None):\n",
    "    nov_1 = date(year, 11, 1)\n",
    "    election_day = nov_1 + timedelta(days=(1 - nov_1.weekday() + 7) % 7)\n",
    "\n",
    "    polls = pollster.questions_slug_poll_responses_clean_tsv_get(f\"{str(year)[-2:]}-US-House\")\n",
    "    polls = polls[polls.sample_subpopulation.isin([\"Likely Voters\", \"Registered Voters\"])]\n",
    "    polls.rename(columns={\"observations\": \"n_resp\"}, inplace=True)\n",
    "\n",
    "    if max_date is not None:\n",
    "        polls = polls[polls.end_date <= max_date]\n",
    "\n",
    "    polls[\"n_dem\"] = polls.Democrat / (polls.Democrat + polls.Republican) * polls.n_resp\n",
    "    polls.dropna(subset=[\"n_dem\"], inplace=True)\n",
    "    polls.n_dem = polls.n_dem.astype(\"int\")\n",
    "    polls.n_resp = polls.n_resp.astype(\"int\")\n",
    "\n",
    "    polls[\"pollster\"] = pd.factorize(polls.survey_house)[0] + 1\n",
    "    weeks = (election_day - polls.start_date).apply(lambda x: int(x.days / 7))\n",
    "    months = (election_day - polls.start_date).apply(lambda x: int(x.days / 30.4375))\n",
    "    n_weeks = weeks.max() + 1\n",
    "    n_months = months.max() + 1\n",
    "    polls[\"week\"] = n_weeks - weeks\n",
    "    polls[\"month\"] = n_months - months\n",
    "\n",
    "    polls.drop([\"Democrat\", \"Republican\", \"Other\", \"Undecided\", \"survey_house\", \"start_date\",\n",
    "                \"end_date\", \"sample_subpopulation\", \"mode\", \"partisanship\", \"partisan_affiliation\",\n",
    "                \"poll_slug\", \"question_text\", \"margin_of_error\"], axis=1, inplace=True)\n",
    "\n",
    "    return polls, n_weeks, n_months\n",
    "\n",
    "def find_not_running(year):\n",
    "    page = fetch(f\"https://en.wikipedia.org/wiki/United_States_House_of_Representatives_elections,_{year}\")\n",
    "    soup = BeautifulSoup(page, \"lxml\")\n",
    "    # find the section that mentions retiring incumbents\n",
    "    incumbents = soup.find(\"span\", class_=\"mw-headline\", string=re.compile(\"incumbent\", re.I)).parent\n",
    "    not_running = []\n",
    "    # there is a list for each party\n",
    "    for l in incumbents.find_next_siblings(\"ol\"):\n",
    "        for item in l.find_all(\"li\"):\n",
    "            # each item is like 'Arizona 1: John Smith.' We extract the state and district # \n",
    "            state, district = item.get_text().split(\":\")[0].split(\"\\xa0\")\n",
    "            district = 0 if district.lower() == \"at-large\" else int(district)\n",
    "            not_running.append(f\"{name_to_abbr(state)}-{district:02}\")\n",
    "\n",
    "    return not_running\n",
    "\n",
    "def get_incumbency():\n",
    "    data = []\n",
    "    \n",
    "    page = fetch(\"https://en.wikipedia.org/wiki/Current_members_of_the_United_States_House_of_Representatives\")\n",
    "    soup = BeautifulSoup(page, \"lxml\")\n",
    "    \n",
    "    heading = soup.find(\"span\", id=\"Voting_members_by_state\").parent\n",
    "    table = heading.find_next_sibling(\"table\")\n",
    "   \n",
    "    first = True\n",
    "    for row in table.find_all(\"tr\"):\n",
    "        # skip first row (headings)\n",
    "        if first:\n",
    "            first = False\n",
    "            continue\n",
    "            \n",
    "        district, _, _, party, *_ = [c.text for c in row.find_all(\"td\")]\n",
    "        state, district = re.split(' (?=at large|\\d)', district.lower())\n",
    "        district = 0 if district == \"at large\" else int(district)\n",
    "        party = 1 if party == \"Democratic\" else -1 if party == \"Republican\" else 0\n",
    "        \n",
    "        data.append({\n",
    "            \"district\": f\"{name_to_abbr(state)}-{district:02}\",\n",
    "            \"incumbent\": party\n",
    "        })\n",
    "    \n",
    "    return pd.DataFrame(data).sort_values(\"district\").set_index(\"district\", drop=False)\n",
    "\n",
    "def name_to_abbr(name):\n",
    "    return us.states.lookup(name).abbr\n",
    "\n"
   ]
  },
  {
   "cell_type": "code",
   "execution_count": 2,
   "metadata": {},
   "outputs": [
    {
     "name": "stderr",
     "output_type": "stream",
     "text": [
      "/usr/local/lib/python3.6/site-packages/pandas/core/generic.py:2999: SettingWithCopyWarning: \n",
      "A value is trying to be set on a copy of a slice from a DataFrame.\n",
      "Try using .loc[row_indexer,col_indexer] = value instead\n",
      "\n",
      "See the caveats in the documentation: http://pandas.pydata.org/pandas-docs/stable/indexing.html#indexing-view-versus-copy\n",
      "  self[name] = value\n"
     ]
    }
   ],
   "source": [
    "args = dot(dry=False, date=datetime.now(), race_n=20000, nat_n=3000, recompile=False,\n",
    "          model_dir=\"models\")\n",
    "\n",
    "election_day = datetime(2018, 11, 6)\n",
    "current_seats = 194\n",
    "\n",
    "#################################\n",
    "# Load prior models             #\n",
    "#################################\n",
    "nat_prior = priors.get_national_prior(model_dir=args.model_dir)\n",
    "race_prior = priors.get_race_prior(model_dir=args.model_dir)\n",
    "bias_prior = priors.get_bias_prior(recalculate=True, model_dir=args.model_dir)"
   ]
  },
  {
   "cell_type": "code",
   "execution_count": 3,
   "metadata": {},
   "outputs": [
    {
     "name": "stdout",
     "output_type": "stream",
     "text": [
      "                            OLS Regression Results                            \n",
      "==============================================================================\n",
      "Dep. Variable:                    MRG   R-squared:                       0.836\n",
      "Model:                            OLS   Adj. R-squared:                  0.835\n",
      "Method:                 Least Squares   F-statistic:                     2191.\n",
      "Date:                Mon, 17 Jul 2017   Prob (F-statistic):               0.00\n",
      "Time:                        21:07:37   Log-Likelihood:                -10542.\n",
      "No. Observations:                2592   AIC:                         2.110e+04\n",
      "Df Residuals:                    2585   BIC:                         2.114e+04\n",
      "Df Model:                           6                                         \n",
      "Covariance Type:            nonrobust                                         \n",
      "==============================================================================\n",
      "                 coef    std err          t      P>|t|      [0.025      0.975]\n",
      "------------------------------------------------------------------------------\n",
      "Intercept     -0.9795      0.357     -2.740      0.006      -1.680      -0.279\n",
      "NAT            0.5332      0.112      4.748      0.000       0.313       0.753\n",
      "PVI            0.2403      0.060      4.013      0.000       0.123       0.358\n",
      "PRES          -4.6348      0.324    -14.315      0.000      -5.270      -4.000\n",
      "PVI:PRES       0.0307      0.023      1.348      0.178      -0.014       0.075\n",
      "ADJ            0.5217      0.036     14.482      0.000       0.451       0.592\n",
      "INC           17.8303      0.384     46.432      0.000      17.077      18.583\n",
      "==============================================================================\n",
      "Omnibus:                      547.120   Durbin-Watson:                   1.596\n",
      "Prob(Omnibus):                  0.000   Jarque-Bera (JB):             4952.406\n",
      "Skew:                           0.735   Prob(JB):                         0.00\n",
      "Kurtosis:                       9.610   Cond. No.                         47.2\n",
      "==============================================================================\n",
      "\n",
      "Warnings:\n",
      "[1] Standard Errors assume that the covariance matrix of the errors is correctly specified.\n"
     ]
    }
   ],
   "source": [
    "print(race_prior.summary())"
   ]
  },
  {
   "cell_type": "code",
   "execution_count": 90,
   "metadata": {
    "collapsed": true
   },
   "outputs": [],
   "source": [
    "#################################\n",
    "# Organize data for prediction  #\n",
    "#################################\n",
    "\n",
    "approvals = priors.get_approvals_data()\n",
    "cd_vote = priors.get_pvi_data()\n",
    "\n",
    "polls, n_weeks, n_months = get_polling_data(max_date = args.date)\n",
    "\n",
    "if args.date >= datetime(2018, 6, 1):\n",
    "    appr_slice = approvals[(approvals.date > date(2018, 1, 1))\n",
    "                            & (approvals.date < date(2018, 6, 1))]\n",
    "else: # use last six months\n",
    "    ago = args.date - timedelta(6 * 365/12)\n",
    "    appr_slice = approvals[(approvals.date > ago) & (approvals.date < args.date)]\n",
    "\n",
    "nat_prior_data = [{\n",
    "    \"APPR\": appr_slice.approval.mean(),\n",
    "    \"INC\": -1,\n",
    "    \"PRES\": -1,\n",
    "    \"MID\": 1,\n",
    "}]\n",
    "nat_prediction = nat_prior.predict(nat_prior_data)[0]\n",
    "\n",
    "# create covariance matrix for national polling error\n",
    "sigma_cov = np.full((n_months, n_months), 0.0)\n",
    "np.fill_diagonal(sigma_cov, bias_prior.mse_resid / 100**2)\n",
    "diag = np.arange(0, n_months - 1)\n",
    "sigma_cov[diag + 1, diag] = bias_prior.step_var\n",
    "sigma_cov[diag, diag+1] = bias_prior.step_var\n",
    "\n",
    "mcmc_data = {\n",
    "    \"R\": 435,\n",
    "    \"W\": n_weeks,\n",
    "    \"M\": n_months,\n",
    "    \"N\": len(polls),\n",
    "    \"P\": max(polls.pollster),\n",
    "    \"w\": polls.week.values,\n",
    "    \"m\": polls.month.values,\n",
    "    \"n_resp\": polls.n_resp.values,\n",
    "    \"n_dem\": polls.n_dem.values,\n",
    "    \"p\": polls.pollster.values,\n",
    "    \"alpha_n_prior\": bias_prior.predict({\"months\": range(n_months-1, -1, -1)}).values / 100,\n",
    "    \"sigma_n_prior\": sigma_cov,\n",
    "    \"mu_prior\": nat_prediction / 100,\n",
    "    \"mu_mse\": math.sqrt(nat_prior.mse_resid) / 100,\n",
    "}\n",
    "\n",
    "\n",
    "#################################\n",
    "# Compile and run STAN model    #\n",
    "#################################\n",
    "\n",
    "filename = \"house_stan.pkl\"\n",
    "path = os.path.join(args.model_dir, filename)\n",
    "\n",
    "if os.path.isfile(path) and not args.recompile:\n",
    "    with open(path, \"rb\") as f:\n",
    "        model = pickle.load(f)\n",
    "else:\n",
    "    model = StanModel(file=\"house.stan\")\n",
    "    with open(path, \"wb\") as f:\n",
    "        pickle.dump(model, f)\n",
    "\n",
    "\n",
    "fit = model.sampling(data=mcmc_data, chains=3, iter=args.nat_n, \n",
    "        warmup=args.nat_n // 3)\n",
    "\n",
    "\n",
    "#################################\n",
    "# Extract results               #\n",
    "#################################\n",
    "\n",
    "mu_samples = fit.extract(\"mu\")[\"mu\"]\n",
    "y = 100 * np.mean(mu_samples, axis=0)\n",
    "err_y = 100 * np.std(mu_samples, axis=0)\n",
    "weeks = pd.date_range(end=election_day, periods=n_weeks, freq=\"W\")\n",
    "weeks = weeks.strftime(\"%Y-%m-%d\")\n",
    "\n",
    "\n",
    "alpha_samples = fit.extract(\"alpha_n\")[\"alpha_n\"]\n",
    "alpha = 100 * np.mean(alpha_samples, axis=0)\n",
    "err_alpha = 2 * 100 * np.std(alpha_samples, axis=0)"
   ]
  },
  {
   "cell_type": "code",
   "execution_count": 86,
   "metadata": {},
   "outputs": [],
   "source": [
    "#################################\n",
    "# Predict individual races      #\n",
    "#################################\n",
    "\n",
    "incumbents = get_incumbency()\n",
    "not_running = find_not_running(2018)\n",
    "\n",
    "race_prior_data = []\n",
    "races = incumbents.district.unique()\n",
    "incumbent_series = []\n",
    "for race in races:\n",
    "    incumbent_series.append(incumbents.loc[race].incumbent)\n",
    "    race_prior_data.append({ \n",
    "        \"NAT\": y[-1],\n",
    "        \"INC\": 0 if race in not_running else incumbents.loc[race].incumbent,\n",
    "        \"PVI\": cd_vote.loc[race].pvi_2018,\n",
    "        \"ADJ\": cd_vote.loc[race].pres_margin_16,\n",
    "        \"MID\": 1,\n",
    "        \"PRES\": -1,\n",
    "    })\n",
    "\n",
    "race_predictions = race_prior.predict(race_prior_data).values / 100\n",
    "\n",
    "# add in variance from national model\n",
    "addl_var = (err_y[-1] / 100)**2\n",
    "cov_matrix = np.full((435, 435), race_prior.mse_resid/100**2)\n",
    "np.fill_diagonal(cov_matrix, race_prior.dist_var/100**2)\n",
    "\n",
    "results = np.random.multivariate_normal(race_predictions, cov_matrix, args.race_n)\n",
    "\n",
    "expected = results.mean(axis=0)\n",
    "expected_std = results.std(axis=0)\n",
    "prob_district = np.mean((np.sign(results) + 1) / 2, axis=0)\n",
    "seats = np.sum((np.sign(results) + 1) / 2, axis=1).astype(int)\n",
    "seats_hist = np.bincount(seats, minlength=436) / len(seats)\n",
    "prob = np.mean(seats >= 218)\n",
    "gain = np.mean(seats) - current_seats"
   ]
  },
  {
   "cell_type": "code",
   "execution_count": 87,
   "metadata": {},
   "outputs": [
    {
     "name": "stdout",
     "output_type": "stream",
     "text": [
      "0.3789\n",
      "28.0652\n"
     ]
    }
   ],
   "source": [
    "print(prob)\n",
    "print(gain)"
   ]
  },
  {
   "cell_type": "code",
   "execution_count": 88,
   "metadata": {},
   "outputs": [
    {
     "data": {
      "text/plain": [
       "<matplotlib.axes._subplots.AxesSubplot at 0x1081c4198>"
      ]
     },
     "execution_count": 88,
     "metadata": {},
     "output_type": "execute_result"
    },
    {
     "data": {
      "image/png": "[encoded data removed]",
      "text/plain": [
       "<matplotlib.figure.Figure at 0x111a40ac8>"
      ]
     },
     "metadata": {},
     "output_type": "display_data"
    }
   ],
   "source": [
    "%matplotlib inline\n",
    "import seaborn as sb\n",
    "\n",
    "sb.distplot(seats)"
   ]
  },
  {
   "cell_type": "code",
   "execution_count": 71,
   "metadata": {},
   "outputs": [
    {
     "data": {
      "text/plain": [
       "0.3332"
      ]
     },
     "execution_count": 71,
     "metadata": {},
     "output_type": "execute_result"
    }
   ],
   "source": [
    "prob_district[idx]"
   ]
  },
  {
   "cell_type": "code",
   "execution_count": 46,
   "metadata": {},
   "outputs": [
    {
     "name": "stdout",
     "output_type": "stream",
     "text": [
      "{'NAT': 5.8342912068314625, 'INC': -1, 'PVI': -1.0, 'ADJ': 8.0, 'MID': 1, 'PRES': -1}\n"
     ]
    },
    {
     "data": {
      "text/plain": [
       "-7.1001552632329084"
      ]
     },
     "execution_count": 46,
     "metadata": {},
     "output_type": "execute_result"
    }
   ],
   "source": [
    "distr = \"CA-49\"\n",
    "idx = np.where(races == distr)[0][0]\n",
    "d = race_prior_data[idx].copy()\n",
    "print(d)\n",
    "race_prior.predict([d]).values[0]"
   ]
  },
  {
   "cell_type": "code",
   "execution_count": 67,
   "metadata": {},
   "outputs": [
    {
     "name": "stdout",
     "output_type": "stream",
     "text": [
      "                            OLS Regression Results                            \n",
      "==============================================================================\n",
      "Dep. Variable:                    MRG   R-squared:                       0.843\n",
      "Model:                            OLS   Adj. R-squared:                  0.843\n",
      "Method:                 Least Squares   F-statistic:                     1984.\n",
      "Date:                Mon, 17 Jul 2017   Prob (F-statistic):               0.00\n",
      "Time:                        21:17:58   Log-Likelihood:                -10482.\n",
      "No. Observations:                2592   AIC:                         2.098e+04\n",
      "Df Residuals:                    2584   BIC:                         2.103e+04\n",
      "Df Model:                           7                                         \n",
      "Covariance Type:            nonrobust                                         \n",
      "==============================================================================\n",
      "                 coef    std err          t      P>|t|      [0.025      0.975]\n",
      "------------------------------------------------------------------------------\n",
      "Intercept      2.3924      0.472      5.073      0.000       1.468       3.317\n",
      "INC           18.2466      0.377     48.356      0.000      17.507      18.986\n",
      "PVI            0.2007      0.041      4.900      0.000       0.120       0.281\n",
      "ADJ            0.5302      0.028     19.038      0.000       0.476       0.585\n",
      "NAT            0.8725      0.134      6.524      0.000       0.610       1.135\n",
      "PRES          -2.6099      0.460     -5.670      0.000      -3.513      -1.707\n",
      "MID           -6.5528      0.610    -10.745      0.000      -7.749      -5.357\n",
      "PRES:MID      -1.9878      0.638     -3.116      0.002      -3.239      -0.737\n",
      "==============================================================================\n",
      "Omnibus:                      532.285   Durbin-Watson:                   1.673\n",
      "Prob(Omnibus):                  0.000   Jarque-Bera (JB):             5483.031\n",
      "Skew:                           0.666   Prob(JB):                         0.00\n",
      "Kurtosis:                      10.000   Cond. No.                         96.5\n",
      "==============================================================================\n",
      "\n",
      "Warnings:\n",
      "[1] Standard Errors assume that the covariance matrix of the errors is correctly specified.\n"
     ]
    }
   ],
   "source": [
    "import statsmodels.formula.api as smf\n",
    "\n",
    "fit = smf.ols(\"MRG ~ INC + PVI + ADJ + NAT + PRES*MID\", data=race_prior.model.data.frame).fit()\n",
    "print(fit.summary())"
   ]
  },
  {
   "cell_type": "code",
   "execution_count": 208,
   "metadata": {},
   "outputs": [],
   "source": [
    "data[\"PRES_16\"] = cd_vote.pres_margin_16"
   ]
  },
  {
   "cell_type": "code",
   "execution_count": 226,
   "metadata": {},
   "outputs": [
    {
     "data": {
      "text/plain": [
       "'16'"
      ]
     },
     "execution_count": 226,
     "metadata": {},
     "output_type": "execute_result"
    }
   ],
   "source": [
    "str(2016)[-2:]"
   ]
  },
  {
   "cell_type": "code",
   "execution_count": 110,
   "metadata": {},
   "outputs": [
    {
     "data": {
      "text/plain": [
       "[<matplotlib.lines.Line2D at 0x1142b1438>]"
      ]
     },
     "execution_count": 110,
     "metadata": {},
     "output_type": "execute_result"
    },
    {
     "data": {
      "image/png": "[encoded data removed]",
      "text/plain": [
       "<matplotlib.figure.Figure at 0x1202b35f8>"
      ]
     },
     "metadata": {},
     "output_type": "display_data"
    }
   ],
   "source": [
    "plt.plot(fit.extract(\"alpha_n\")[\"alpha_n\"].mean(axis=0))"
   ]
  },
  {
   "cell_type": "code",
   "execution_count": 107,
   "metadata": {},
   "outputs": [
    {
     "data": {
      "text/plain": [
       "[<matplotlib.lines.Line2D at 0x111db5748>]"
      ]
     },
     "execution_count": 107,
     "metadata": {},
     "output_type": "execute_result"
    },
    {
     "data": {
      "image/png": "[encoded data removed]",
      "text/plain": [
       "<matplotlib.figure.Figure at 0x1118007f0>"
      ]
     },
     "metadata": {},
     "output_type": "display_data"
    }
   ],
   "source": [
    "from matplotlib import pyplot as plt\n",
    "\n",
    "plt.plot(fit.extract(\"mu\")[\"mu\"][:,5])"
   ]
  },
  {
   "cell_type": "code",
   "execution_count": null,
   "metadata": {
    "collapsed": true
   },
   "outputs": [],
   "source": []
  }
 ],
 "metadata": {
  "kernelspec": {
   "display_name": "Python 3",
   "language": "python",
   "name": "python3"
  },
  "language_info": {
   "codemirror_mode": {
    "name": "ipython",
    "version": 3
   },
   "file_extension": ".py",
   "mimetype": "text/x-python",
   "name": "python",
   "nbconvert_exporter": "python",
   "pygments_lexer": "ipython3",
   "version": "3.6.1"
  }
 },
 "nbformat": 4,
 "nbformat_minor": 2
}
